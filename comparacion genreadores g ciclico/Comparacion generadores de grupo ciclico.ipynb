{
 "cells": [
  {
   "cell_type": "code",
   "execution_count": 3,
   "id": "429c05db",
   "metadata": {},
   "outputs": [],
   "source": [
    "# primero es necesario tener una funcion que descomponga el numnero n en factores primos\n",
    "# n es el numero a descomponer\n",
    "# la funcion deviuelve la descomposición en el un arreglo con el formato [[primo, exponente], ... , [primo, exponente]]\n",
    "def descomponerPrimos(n): \n",
    "    exponente = 0 # exponente: va a almacenar cuantas divisiones por i se han realizado\n",
    "    i=2    # i: va a almacenar el primo en que se va contando\n",
    "    factores =[] #factores: va a almacenar la descomposicion en subarreglos con el formato [primo, exponente]\n",
    "    while(n>1): # se repite mientras n sea mayor a 1\n",
    "        while(n%i==0): # solo numeros primos cuemplen la condicion\n",
    "            exponente+=1 # por cada que se divida va a aumentar el exponente\n",
    "            n=n/i #n se reemplaza por la division en el primo\n",
    "        if exponente>0: # sí i es primo\n",
    "            factores.append([i,exponente]) # se almacena el primo con el exponente\n",
    "        exponente=0 # se reinicia\n",
    "        i+=1 \n",
    "    return factores"
   ]
  },
  {
   "cell_type": "code",
   "execution_count": 4,
   "id": "053ed2e1",
   "metadata": {
    "scrolled": true
   },
   "outputs": [],
   "source": [
    "# funcion que devuelve el phi de Euler para el numero n \n",
    "# n : numero para entrar a la funcion \n",
    "def phiEuler(n):\n",
    "    if(n==1):\n",
    "        return 1\n",
    "    descomposicion = descomponerPrimos(n)\n",
    "    resultado = 1\n",
    "    for i in descomposicion:\n",
    "        resultado = resultado * ((i[0]**i[1]) - (i[0]**(i[1]-1)))\n",
    "    return resultado"
   ]
  },
  {
   "cell_type": "code",
   "execution_count": 31,
   "id": "d2a84a7e",
   "metadata": {},
   "outputs": [],
   "source": [
    "def funcion(i,k,m):\n",
    "    return m[i+1][k+1]"
   ]
  },
  {
   "cell_type": "code",
   "execution_count": 32,
   "id": "730f5ebd",
   "metadata": {
    "scrolled": true
   },
   "outputs": [
    {
     "name": "stdout",
     "output_type": "stream",
     "text": [
      "4\n"
     ]
    }
   ],
   "source": [
    "#matriz, matriz con fila y columna [0] conomo labels y el resto son las relaciones \n",
    "def encontrarGeneradoresLargo(matriz):\n",
    "    elementosDelConjunto = matriz[0][1:] # se extraen los elementos del arreglo excluyendo el espacio del label\n",
    "    conjuntoOriginal = set() \n",
    "    conjuntoOriginal.update(elementosDelConjunto) # se almacenan los elementos del conjunto\n",
    "    generadores = 0; # contador de generadores\n",
    "    for i in elementosDelConjunto:\n",
    "        generado = set()\n",
    "        resultado = funcion(i, i, matriz) # se almacena el primer elemento\n",
    "        generado.add(resultado)\n",
    "        while resultado!=i:\n",
    "            resultado = funcion(i,resultado, matriz)\n",
    "            generado.add(resultado)\n",
    "        if(conjuntoOriginal == generado):\n",
    "            generadores+=1\n",
    "    return(generadores)"
   ]
  },
  {
   "cell_type": "code",
   "execution_count": 7,
   "id": "1841df2a",
   "metadata": {},
   "outputs": [
    {
     "data": {
      "text/plain": [
       "4"
      ]
     },
     "execution_count": 7,
     "metadata": {},
     "output_type": "execute_result"
    }
   ],
   "source": [
    "def encontrarGeneradoresTotien(matriz):\n",
    "    return phiEuler(len(matriz[0])-1)"
   ]
  },
  {
   "cell_type": "code",
   "execution_count": 26,
   "id": "d55a57b8",
   "metadata": {},
   "outputs": [],
   "source": [
    "# se crea la tabla para simular la relacion de los elementos \n",
    "def getMatriz(a):\n",
    "    b=[]\n",
    "    for i in range (a):\n",
    "        c=[]\n",
    "        for j in range(a):\n",
    "            if (j==0):\n",
    "                c.append(i)\n",
    "            c.append((i+j) % a)\n",
    "        if(i==0):\n",
    "            b.append(c)\n",
    "        b.append(c)\n",
    "    return b"
   ]
  },
  {
   "cell_type": "code",
   "execution_count": 42,
   "id": "8ff9adcf",
   "metadata": {
    "scrolled": false
   },
   "outputs": [
    {
     "name": "stdout",
     "output_type": "stream",
     "text": [
      "1000: la:400 tiempo:0.1940140724182129 tp:400 tiempo:0.0\n",
      "2000: la:800 tiempo:0.8052382469177246 tp:800 tiempo:0.0\n",
      "3000: la:800 tiempo:1.5137300491333008 tp:800 tiempo:0.0\n",
      "4000: la:1600 tiempo:3.37764835357666 tp:1600 tiempo:0.0\n",
      "5000: la:2000 tiempo:5.823658227920532 tp:2000 tiempo:0.0\n",
      "6000: la:1600 tiempo:6.494545936584473 tp:1600 tiempo:0.038002729415893555\n",
      "7000: la:2400 tiempo:10.098771095275879 tp:2400 tiempo:0.008000850677490234\n",
      "8000: la:3200 tiempo:16.589605808258057 tp:3200 tiempo:0.0009999275207519531\n",
      "9000: la:2400 tiempo:25.562002897262573 tp:2400 tiempo:0.003003358840942383\n",
      "10000: la:4000 tiempo:46.48200225830078 tp:4000 tiempo:0.0020008087158203125\n"
     ]
    }
   ],
   "source": [
    "# se busca la cantidad de generadores ciclicos para conjuntos de 1000, 2000, ... , 9000 y 10000 elementos y se muestran \n",
    "# los resultados con el metodo de verificacion elemento por elemento y con el totient de Euler, se imprimen los resultados y los tiempos \n",
    "\n",
    "for i in range (1000,10001,1000):\n",
    "    a=getMatriz(i)\n",
    "    \n",
    "    inicio = time.time()\n",
    "    l = encontrarGeneradoresLargo(a)\n",
    "    fin = time.time()\n",
    "    tiempoMetodoLargo=fin-inicio\n",
    "    \n",
    "    inicio = time.time()\n",
    "    t= encontrarGeneradoresTotien(a)\n",
    "    fin = time.time()\n",
    "    tiempoMetodoTotien=fin -inicio\n",
    "    \n",
    "    print(f\"{i}: la:{l} tiempo:{tiempoMetodoLargo} tp:{t} tiempo:{tiempoMetodoTotien}\")\n",
    "    \n",
    "    "
   ]
  }
 ],
 "metadata": {
  "kernelspec": {
   "display_name": "Python 3 (ipykernel)",
   "language": "python",
   "name": "python3"
  },
  "language_info": {
   "codemirror_mode": {
    "name": "ipython",
    "version": 3
   },
   "file_extension": ".py",
   "mimetype": "text/x-python",
   "name": "python",
   "nbconvert_exporter": "python",
   "pygments_lexer": "ipython3",
   "version": "3.10.2"
  }
 },
 "nbformat": 4,
 "nbformat_minor": 5
}
